{
 "cells": [
  {
   "cell_type": "code",
   "execution_count": 1,
   "id": "6f50b563-17f3-4e62-8b50-e8409287a257",
   "metadata": {},
   "outputs": [
    {
     "name": "stdout",
     "output_type": "stream",
     "text": [
      "[9, 18, 27]\n"
     ]
    }
   ],
   "source": [
    "#1.Vector Scalar Multiplication: Write a function to multiply a vector by a scalar.\n",
    "def vector_scalar_mul(v,s): #\"v\" reresents vector and \"s\" represnt scalar!\n",
    "    return [x*s for x in v]\n",
    "\n",
    "#Example\n",
    "vec = [1,2,3]\n",
    "scal = 9\n",
    "print(vector_scalar_mul(vec,scal))"
   ]
  },
  {
   "cell_type": "code",
   "execution_count": 2,
   "id": "51b51ad7-96b0-4a01-b6a5-3b78eb558882",
   "metadata": {},
   "outputs": [
    {
     "name": "stdout",
     "output_type": "stream",
     "text": [
      "100\n"
     ]
    }
   ],
   "source": [
    "#Dot Product: Calculate the dot product of two vectors.\n",
    "import numpy as np \n",
    "v1 = [2,4,6,8]\n",
    "v2 = [1,3,5,7]\n",
    "dot_product = np.dot(v1,v2)\n",
    "print(dot_product)"
   ]
  },
  {
   "cell_type": "code",
   "execution_count": 3,
   "id": "168db1c3-b96f-4bc9-8170-458142e46077",
   "metadata": {},
   "outputs": [
    {
     "name": "stdout",
     "output_type": "stream",
     "text": [
      "26.38181191654584\n"
     ]
    }
   ],
   "source": [
    "#Vector Norm:Compute the Euclidean norm (magnitude) of a vector.\n",
    "import numpy as np\n",
    "v3 = [10,12,14,16]\n",
    "magnitude = np.linalg.norm(v3)\n",
    "print(magnitude)"
   ]
  },
  {
   "cell_type": "code",
   "execution_count": 5,
   "id": "1143aa2e-638b-4c2e-afc3-026c71efbf8c",
   "metadata": {},
   "outputs": [
    {
     "name": "stdout",
     "output_type": "stream",
     "text": [
      "False\n"
     ]
    }
   ],
   "source": [
    "#Orthogonality Check:Check if two given vectors are orthogonal.\n",
    "import numpy as np \n",
    "def ortho(v4,v5):\n",
    "    return np.dot(v4,v5)==0\n",
    "v4 = [1,2,3]\n",
    "v5 = [4,-5,6]\n",
    "print(ortho(v4,v5))"
   ]
  },
  {
   "cell_type": "code",
   "execution_count": 11,
   "id": "14338d35-252b-4e38-929d-d11983dfb89c",
   "metadata": {},
   "outputs": [
    {
     "name": "stdout",
     "output_type": "stream",
     "text": [
      "[ 3  6 -3]\n"
     ]
    }
   ],
   "source": [
    "#Cross Product:Implement the cross product of two vectors.\n",
    "import numpy as np\n",
    "v8 = [-1,2,3]\n",
    "v9 = [4,-5,-6]\n",
    "cross_product = np.cross(v8,v9)\n",
    "print(cross_product)"
   ]
  },
  {
   "cell_type": "code",
   "execution_count": 15,
   "id": "f252d347-2bf1-4567-a2cc-d02b84ff56ef",
   "metadata": {},
   "outputs": [
    {
     "name": "stdout",
     "output_type": "stream",
     "text": [
      "FALSE!\n"
     ]
    }
   ],
   "source": [
    "#.Vector Space Basis:Determine if a set of vectors forms a basis for a vector space.\n",
    "import numpy as np\n",
    "\n",
    "v10 = np.arange(1,10).reshape(3,3)\n",
    "if np.linalg.matrix_rank(v10) == len(v10):\n",
    "    print(\"TRUE!\")\n",
    "else:\n",
    "    print(\"FALSE!\")\n",
    "          \n",
    "    "
   ]
  },
  {
   "cell_type": "code",
   "execution_count": 16,
   "id": "d31c7092-048b-45b2-9159-372b7d6fc8a9",
   "metadata": {},
   "outputs": [
    {
     "name": "stdout",
     "output_type": "stream",
     "text": [
      "True\n"
     ]
    }
   ],
   "source": [
    "#Linear Independence:Determine if a set of vectors is linearly independent.\n",
    "import numpy as np \n",
    "v11 = np.arange(11,20).reshape(3,3)\n",
    "linearly = np.linalg.det(v11) != 0\n",
    "print(linearly)"
   ]
  },
  {
   "cell_type": "code",
   "execution_count": null,
   "id": "27216c5c-7812-4008-b7c7-a1546c5a716d",
   "metadata": {},
   "outputs": [],
   "source": []
  }
 ],
 "metadata": {
  "kernelspec": {
   "display_name": "Python 3 (ipykernel)",
   "language": "python",
   "name": "python3"
  },
  "language_info": {
   "codemirror_mode": {
    "name": "ipython",
    "version": 3
   },
   "file_extension": ".py",
   "mimetype": "text/x-python",
   "name": "python",
   "nbconvert_exporter": "python",
   "pygments_lexer": "ipython3",
   "version": "3.12.1"
  }
 },
 "nbformat": 4,
 "nbformat_minor": 5
}
